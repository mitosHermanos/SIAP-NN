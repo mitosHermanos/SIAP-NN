{
 "cells": [
  {
   "cell_type": "code",
   "execution_count": 2,
   "id": "242f6796",
   "metadata": {},
   "outputs": [
    {
     "data": {
      "text/html": [
       "<div>\n",
       "<style scoped>\n",
       "    .dataframe tbody tr th:only-of-type {\n",
       "        vertical-align: middle;\n",
       "    }\n",
       "\n",
       "    .dataframe tbody tr th {\n",
       "        vertical-align: top;\n",
       "    }\n",
       "\n",
       "    .dataframe thead th {\n",
       "        text-align: right;\n",
       "    }\n",
       "</style>\n",
       "<table border=\"1\" class=\"dataframe\">\n",
       "  <thead>\n",
       "    <tr style=\"text-align: right;\">\n",
       "      <th></th>\n",
       "      <th>Guest_country</th>\n",
       "      <th>Room_info</th>\n",
       "      <th>Nights_stayed</th>\n",
       "      <th>Date of stay</th>\n",
       "      <th>Travel_type</th>\n",
       "      <th>Review</th>\n",
       "      <th>Grade</th>\n",
       "      <th>Title</th>\n",
       "      <th>Negative</th>\n",
       "      <th>Positive</th>\n",
       "      <th>Facilities</th>\n",
       "    </tr>\n",
       "  </thead>\n",
       "  <tbody>\n",
       "    <tr>\n",
       "      <th>0</th>\n",
       "      <td>Australia</td>\n",
       "      <td>Studio King (Family)</td>\n",
       "      <td>3</td>\n",
       "      <td>July 2019</td>\n",
       "      <td>Family</td>\n",
       "      <td>Perfect location. Convenient to everywhere.</td>\n",
       "      <td>10.0</td>\n",
       "      <td>Exceptional</td>\n",
       "      <td>0</td>\n",
       "      <td>1</td>\n",
       "      <td>location|</td>\n",
       "    </tr>\n",
       "    <tr>\n",
       "      <th>1</th>\n",
       "      <td>United Kingdom</td>\n",
       "      <td>Superior Double Room - Disability Access</td>\n",
       "      <td>2</td>\n",
       "      <td>March 2021</td>\n",
       "      <td>Couple</td>\n",
       "      <td>The view was very nice. The presentation of t...</td>\n",
       "      <td>10.0</td>\n",
       "      <td>Overall it’s a very good place with great staff</td>\n",
       "      <td>0</td>\n",
       "      <td>1</td>\n",
       "      <td>location|food|</td>\n",
       "    </tr>\n",
       "    <tr>\n",
       "      <th>2</th>\n",
       "      <td>United Kingdom</td>\n",
       "      <td>Two-Bedroom Suite with Terrace</td>\n",
       "      <td>1</td>\n",
       "      <td>February 2021</td>\n",
       "      <td>Family</td>\n",
       "      <td>From start to finish they hotel was happy to ...</td>\n",
       "      <td>10.0</td>\n",
       "      <td>Exceptional</td>\n",
       "      <td>0</td>\n",
       "      <td>1</td>\n",
       "      <td>location|</td>\n",
       "    </tr>\n",
       "    <tr>\n",
       "      <th>3</th>\n",
       "      <td>United Kingdom</td>\n",
       "      <td>Studio King (Family)</td>\n",
       "      <td>1</td>\n",
       "      <td>March 2021</td>\n",
       "      <td>Family</td>\n",
       "      <td>The staff were great</td>\n",
       "      <td>10.0</td>\n",
       "      <td>Exceptional</td>\n",
       "      <td>0</td>\n",
       "      <td>1</td>\n",
       "      <td>staff|</td>\n",
       "    </tr>\n",
       "    <tr>\n",
       "      <th>4</th>\n",
       "      <td>United Kingdom</td>\n",
       "      <td>Superior Twin Room with Internal View</td>\n",
       "      <td>1</td>\n",
       "      <td>March 2021</td>\n",
       "      <td>Solo traveler</td>\n",
       "      <td>This is a fabulous hotel at the best of times...</td>\n",
       "      <td>10.0</td>\n",
       "      <td>Exceptional</td>\n",
       "      <td>0</td>\n",
       "      <td>1</td>\n",
       "      <td>staff|</td>\n",
       "    </tr>\n",
       "  </tbody>\n",
       "</table>\n",
       "</div>"
      ],
      "text/plain": [
       "    Guest_country                                 Room_info  Nights_stayed  \\\n",
       "0       Australia                      Studio King (Family)              3   \n",
       "1  United Kingdom  Superior Double Room - Disability Access              2   \n",
       "2  United Kingdom            Two-Bedroom Suite with Terrace              1   \n",
       "3  United Kingdom                      Studio King (Family)              1   \n",
       "4  United Kingdom     Superior Twin Room with Internal View              1   \n",
       "\n",
       "    Date of stay    Travel_type  \\\n",
       "0      July 2019         Family   \n",
       "1     March 2021         Couple   \n",
       "2  February 2021         Family   \n",
       "3     March 2021         Family   \n",
       "4     March 2021  Solo traveler   \n",
       "\n",
       "                                              Review  Grade  \\\n",
       "0        Perfect location. Convenient to everywhere.   10.0   \n",
       "1   The view was very nice. The presentation of t...   10.0   \n",
       "2   From start to finish they hotel was happy to ...   10.0   \n",
       "3                               The staff were great   10.0   \n",
       "4   This is a fabulous hotel at the best of times...   10.0   \n",
       "\n",
       "                                             Title  Negative  Positive  \\\n",
       "0                                      Exceptional         0         1   \n",
       "1  Overall it’s a very good place with great staff         0         1   \n",
       "2                                      Exceptional         0         1   \n",
       "3                                      Exceptional         0         1   \n",
       "4                                      Exceptional         0         1   \n",
       "\n",
       "       Facilities  \n",
       "0       location|  \n",
       "1  location|food|  \n",
       "2       location|  \n",
       "3          staff|  \n",
       "4          staff|  "
      ]
     },
     "execution_count": 2,
     "metadata": {},
     "output_type": "execute_result"
    }
   ],
   "source": [
    "import pandas as pd\n",
    "import numpy as np\n",
    "import pandas as pd\n",
    "# For visualizations\n",
    "import matplotlib.pyplot as plt\n",
    "# For regular expressions\n",
    "import re\n",
    "# For handling string\n",
    "import string\n",
    "# For performing mathematical operations\n",
    "import math\n",
    "\n",
    "df = pd.read_csv(\"hotels-parsed-added-facilities/westminster(parsed1)_facilities.csv\")\n",
    "df.head()"
   ]
  },
  {
   "cell_type": "code",
   "execution_count": 3,
   "id": "8ec2399f",
   "metadata": {},
   "outputs": [
    {
     "data": {
      "text/plain": [
       "(10630, 11)"
      ]
     },
     "execution_count": 3,
     "metadata": {},
     "output_type": "execute_result"
    }
   ],
   "source": [
    "df.shape"
   ]
  },
  {
   "cell_type": "code",
   "execution_count": 4,
   "id": "0f88a5ef",
   "metadata": {},
   "outputs": [
    {
     "data": {
      "text/plain": [
       "Guest_country       0\n",
       "Room_info           0\n",
       "Nights_stayed       0\n",
       "Date of stay        0\n",
       "Travel_type         0\n",
       "Review              0\n",
       "Grade               0\n",
       "Title               0\n",
       "Negative            0\n",
       "Positive            0\n",
       "Facilities       2040\n",
       "dtype: int64"
      ]
     },
     "execution_count": 4,
     "metadata": {},
     "output_type": "execute_result"
    }
   ],
   "source": [
    "df.isnull().sum()"
   ]
  },
  {
   "cell_type": "code",
   "execution_count": 5,
   "id": "520100c9",
   "metadata": {},
   "outputs": [
    {
     "data": {
      "text/plain": [
       "Guest_country    0\n",
       "Room_info        0\n",
       "Nights_stayed    0\n",
       "Date of stay     0\n",
       "Travel_type      0\n",
       "Review           0\n",
       "Grade            0\n",
       "Title            0\n",
       "Negative         0\n",
       "Positive         0\n",
       "Facilities       0\n",
       "dtype: int64"
      ]
     },
     "execution_count": 5,
     "metadata": {},
     "output_type": "execute_result"
    }
   ],
   "source": [
    "df.dropna(inplace=True)\n",
    "df.isnull().sum()"
   ]
  },
  {
   "cell_type": "code",
   "execution_count": 46,
   "id": "adcec2a9",
   "metadata": {},
   "outputs": [
    {
     "name": "stdout",
     "output_type": "stream",
     "text": [
      "{'location': 3478, 'food': 999, 'staff': 2007, 'noisiness': 214, 'drink': 545, 'comfort': 1167, 'bathroom': 396, 'dirty': 1014, 'tv': 146, 'covid': 115, 'bed': 681, 'price': 364, 'restaurant': 400, 'fitness': 253, 'temperature': 50, 'wifi': 38, 'parking': 43}\n",
      "{'food': 1121, 'restaurant': 366, 'drink': 728, 'bathroom': 664, 'noisiness': 171, 'staff': 1125, 'bed': 494, 'tv': 169, 'location': 787, 'comfort': 242, 'price': 781, 'dirty': 597, 'parking': 91, 'temperature': 83, 'fitness': 353, 'covid': 173, 'wifi': 44}\n"
     ]
    },
    {
     "data": {
      "text/plain": [
       "<BarContainer object of 17 artists>"
      ]
     },
     "execution_count": 46,
     "metadata": {},
     "output_type": "execute_result"
    },
    {
     "data": {
      "image/png": "[encoded data removed]",
      "text/plain": [
       "<Figure size 1152x576 with 1 Axes>"
      ]
     },
     "metadata": {
      "needs_background": "light"
     },
     "output_type": "display_data"
    },
    {
     "data": {
      "image/png": "[encoded data removed]",
      "text/plain": [
       "<Figure size 1152x576 with 1 Axes>"
      ]
     },
     "metadata": {
      "needs_background": "light"
     },
     "output_type": "display_data"
    }
   ],
   "source": [
    "fac_poz = {}\n",
    "for x, y in zip(df['Facilities'], df['Positive']):  \n",
    "    if y == 1:\n",
    "        sp = x.split('|')\n",
    "        for s in sp:\n",
    "            if s != '':\n",
    "                if s in fac_poz.keys():\n",
    "                    fac_poz[s] = fac_poz[s] + 1\n",
    "                else:\n",
    "                    fac_poz[s] = 1\n",
    "fac_neg = {}\n",
    "for x, y in zip(df['Facilities'], df['Negative']):  \n",
    "    if y == 1:\n",
    "        sp = x.split('|')\n",
    "        for s in sp:\n",
    "            if s != '':\n",
    "                if s in fac_neg.keys():\n",
    "                    fac_neg[s] = fac_neg[s] + 1\n",
    "                else:\n",
    "                    fac_neg[s] = 1\n",
    "print(fac_poz)\n",
    "print(fac_neg)\n",
    "plt.figure(figsize=(16,8))\n",
    "plt.ylabel('Positive polarity')\n",
    "plt.xlabel('Facility')\n",
    "plt.title('Positive reviwes on facilities')\n",
    "keys = fac_poz.keys()\n",
    "values = fac_poz.values()\n",
    "plt.bar(keys, values)\n",
    "\n",
    "plt.figure(figsize=(16,8))\n",
    "plt.ylabel('Negative polarity')\n",
    "plt.xlabel('Facility')\n",
    "plt.title('Negative reviwes on facilities')\n",
    "keys = fac_neg.keys()\n",
    "values = fac_neg.values()\n",
    "plt.bar(keys, values)"
   ]
  },
  {
   "cell_type": "code",
   "execution_count": null,
   "id": "5ea8b0a0",
   "metadata": {},
   "outputs": [],
   "source": []
  }
 ],
 "metadata": {
  "kernelspec": {
   "display_name": "Python 3",
   "language": "python",
   "name": "python3"
  },
  "language_info": {
   "codemirror_mode": {
    "name": "ipython",
    "version": 3
   },
   "file_extension": ".py",
   "mimetype": "text/x-python",
   "name": "python",
   "nbconvert_exporter": "python",
   "pygments_lexer": "ipython3",
   "version": "3.8.8"
  }
 },
 "nbformat": 4,
 "nbformat_minor": 5
}
